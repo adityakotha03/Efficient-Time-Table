{
 "cells": [
  {
   "cell_type": "code",
   "execution_count": 332,
   "metadata": {},
   "outputs": [
    {
     "name": "stdout",
     "output_type": "stream",
     "text": [
      "    OS  MLA   DAA    CN   CC   CA   ITR    CS    RL MLA_d\n",
      "0  CSE  CSE   CSE   CSE  CSE  CSE     0     0     0     0\n",
      "1    0    0  DSAI  DSAI    0    0  DSAI  DSAI  DSAI  DSAI\n",
      "2    6    4     4     4    6    6     6     6     4     4\n"
     ]
    }
   ],
   "source": [
    "Subjects_Branch = {\"OS\":[\"CSE\",0],\"MLA\":[\"CSE\",0],\"DAA\":[\"CSE\",\"DSAI\"],\"CN\":[\"CSE\",\"DSAI\"],\"CC\":[\"CSE\",0],\"CA\":[\"CSE\",0],\"ITR\":[0,\"DSAI\"],\"CS\":[0,\"DSAI\"],\"RL\":[0,\"DSAI\"],\"MLA_d\":[0,\"DSAI\"]}\n",
    "Subject_Lectutres = {\"OS\": 6,\"MLA\": 4,\"DAA\":4,\"CN\":4,\"CC\":6,\"CA\":6,\"ITR\":6,\"CS\":6,\"RL\":4,\"MLA_d\":4}\n",
    "Slots=8\n",
    "\n",
    "import pandas as pd\n",
    "\n",
    "Subjects = pd.DataFrame(Subjects_Branch)\n",
    "Classes = pd.DataFrame(Subject_Lectutres,index=[0])\n",
    "\n",
    "Subjects = Subjects.append(Subject_Lectutres, ignore_index=True)\n",
    "print(Subjects.head())"
   ]
  },
  {
   "cell_type": "code",
   "execution_count": 333,
   "metadata": {},
   "outputs": [],
   "source": [
    "Schedule_CSE = []\n",
    "Schedule_DSAI = []\n",
    "\n",
    "rows, cols = (5, 8)\n",
    "Schedule_CSE = [[[] for i in range(cols)] for j in range(rows)]\n",
    "Schedule_DSAI = [[[] for i in range(cols)] for j in range(rows)]\n",
    "\n",
    "\n",
    "temp1=[[1 for i in range(cols)] for j in range(rows)]\n",
    "temp1[0][3]=0\n",
    "temp1[2][1]=0\n",
    "temp1[4][2]=0\n",
    "temp1[2][7]=0\n",
    "temp1[2][1]=0\n",
    "temp1[1][2]=0\n",
    "temp1[4][4]=0\n",
    "\n",
    "\n",
    "temp2=[[1 for i in range(cols)] for j in range(rows)]\n",
    "temp2[0][3]=0\n",
    "temp2[0][2]=0\n",
    "temp2[1][1]=0\n",
    "temp2[3][4]=0\n",
    "temp2[3][2]=0\n",
    "temp2[2][3]=0\n",
    "temp2[1][5]=0\n",
    "\n",
    "\n",
    "temp3=[[1 for i in range(cols)] for j in range(rows)]\n",
    "temp3[0][4]=0\n",
    "temp3[1][2]=0\n",
    "temp3[1][1]=0\n",
    "temp3[3][2]=0\n",
    "temp3[4][2]=0\n",
    "\n",
    "\n",
    "temp4=[[1 for i in range(cols)] for j in range(rows)]\n",
    "temp4[4][3]=0\n",
    "temp4[0][0]=0\n",
    "temp4[2][1]=0\n",
    "temp4[3][1]=0\n",
    "temp4[2][2]=0\n",
    "temp4[4][2]=0\n",
    "\n",
    "\n",
    "temp5=[[1 for i in range(cols)] for j in range(rows)]\n",
    "temp5[2][3]=0\n",
    "temp5[0][2]=0\n",
    "temp5[1][5]=0\n",
    "temp5[3][7]=0\n",
    "\n",
    "\n",
    "temp6=[[1 for i in range(cols)] for j in range(rows)]\n",
    "temp6[0][2]=0\n",
    "temp6[4][2]=0\n",
    "temp6[1][5]=0\n",
    "temp6[3][6]=0\n",
    "temp6[2][5]=0\n",
    "\n",
    "temp7=[[1 for i in range(cols)] for j in range(rows)]\n",
    "temp7[0][2]=0\n",
    "temp7[2][2]=0\n",
    "temp7[1][7]=0\n",
    "temp7[1][6]=0\n",
    "temp7[3][5]=0\n",
    "\n",
    "temp8=[[1 for i in range(cols)] for j in range(rows)]\n",
    "temp8[4][2]=0\n",
    "temp8[1][7]=0\n",
    "temp8[2][5]=0\n",
    "temp8[2][6]=0\n",
    "temp8[1][5]=0\n",
    "\n",
    "temp9=[[1 for i in range(cols)] for j in range(rows)]\n",
    "temp9[2][2]=0\n",
    "temp9[1][7]=0\n",
    "temp9[3][5]=0\n",
    "\n",
    "\n",
    "temp10=[[1 for i in range(cols)] for j in range(rows)]\n",
    "temp10[2][7]=0\n",
    "temp10[1][2]=0\n",
    "temp10[1][7]=0\n",
    "temp10[2][0]=0\n",
    "\n",
    "\n",
    "\n",
    "SubjectAvl = {\n",
    "    \"OS\": temp1,\n",
    "    \"MLA\": temp2,\n",
    "    \"DAA\":temp3,\n",
    "    \"CN\":temp4,\n",
    "    \"CC\":temp5,\n",
    "    \"CA\":temp6,\n",
    "    \"ITR\":temp7,\n",
    "    \"CS\":temp8,\n",
    "    \"RL\":temp9,\n",
    "    \"MLA_d\":temp10\n",
    "}"
   ]
  },
  {
   "cell_type": "code",
   "execution_count": 334,
   "metadata": {},
   "outputs": [
    {
     "name": "stdout",
     "output_type": "stream",
     "text": [
      "[['OS', 'MLA', 'DAA', 'CC', 'CA'], ['OS', 'MLA', 'DAA', 'CN', 'CC', 'CA'], ['OS', 'DAA', 'CN'], ['DAA', 'CN', 'CC', 'CA'], ['OS', 'MLA', 'CN', 'CC', 'CA'], ['OS', 'MLA', 'DAA', 'CN', 'CC', 'CA'], ['OS', 'MLA', 'DAA', 'CN', 'CC', 'CA'], ['OS', 'MLA', 'DAA', 'CN', 'CC', 'CA']]\n",
      "[['OS', 'MLA', 'DAA', 'CN', 'CC', 'CA'], ['OS', 'CN', 'CC', 'CA'], ['MLA', 'CN', 'CC', 'CA'], ['OS', 'MLA', 'DAA', 'CN', 'CC', 'CA'], ['OS', 'MLA', 'DAA', 'CN', 'CC', 'CA'], ['OS', 'DAA', 'CN'], ['OS', 'MLA', 'DAA', 'CN', 'CC', 'CA'], ['OS', 'MLA', 'DAA', 'CN', 'CC', 'CA']]\n",
      "[['OS', 'MLA', 'DAA', 'CN', 'CC', 'CA'], ['MLA', 'DAA', 'CC', 'CA'], ['OS', 'MLA', 'DAA', 'CC', 'CA'], ['OS', 'DAA', 'CN', 'CA'], ['OS', 'MLA', 'DAA', 'CN', 'CC', 'CA'], ['OS', 'MLA', 'DAA', 'CN', 'CC'], ['OS', 'MLA', 'DAA', 'CN', 'CC', 'CA'], ['MLA', 'DAA', 'CN', 'CC', 'CA']]\n",
      "[['OS', 'MLA', 'DAA', 'CN', 'CC', 'CA'], ['OS', 'MLA', 'DAA', 'CC', 'CA'], ['OS', 'CN', 'CC', 'CA'], ['OS', 'MLA', 'DAA', 'CN', 'CC', 'CA'], ['OS', 'DAA', 'CN', 'CC', 'CA'], ['OS', 'MLA', 'DAA', 'CN', 'CC', 'CA'], ['OS', 'MLA', 'DAA', 'CN', 'CC'], ['OS', 'MLA', 'DAA', 'CN', 'CA']]\n",
      "[['OS', 'MLA', 'DAA', 'CN', 'CC', 'CA'], ['OS', 'MLA', 'DAA', 'CN', 'CC', 'CA'], ['MLA', 'CC'], ['OS', 'MLA', 'DAA', 'CC', 'CA'], ['MLA', 'DAA', 'CN', 'CC', 'CA'], ['OS', 'MLA', 'DAA', 'CN', 'CC', 'CA'], ['OS', 'MLA', 'DAA', 'CN', 'CC', 'CA'], ['OS', 'MLA', 'DAA', 'CN', 'CC', 'CA']]\n",
      "Next Schedule\n",
      "[['DAA', 'ITR', 'CS', 'RL', 'MLA_d'], ['DAA', 'CN', 'ITR', 'CS', 'RL', 'MLA_d'], ['DAA', 'CN', 'CS', 'RL', 'MLA_d'], ['DAA', 'CN', 'ITR', 'CS', 'RL', 'MLA_d'], ['CN', 'ITR', 'CS', 'RL', 'MLA_d'], ['DAA', 'CN', 'ITR', 'CS', 'RL', 'MLA_d'], ['DAA', 'CN', 'ITR', 'CS', 'RL', 'MLA_d'], ['DAA', 'CN', 'ITR', 'CS', 'RL', 'MLA_d']]\n",
      "[['DAA', 'CN', 'ITR', 'CS', 'RL', 'MLA_d'], ['CN', 'ITR', 'CS', 'RL', 'MLA_d'], ['CN', 'ITR', 'CS', 'RL'], ['DAA', 'CN', 'ITR', 'CS', 'RL', 'MLA_d'], ['DAA', 'CN', 'ITR', 'CS', 'RL', 'MLA_d'], ['DAA', 'CN', 'ITR', 'RL', 'MLA_d'], ['DAA', 'CN', 'CS', 'RL', 'MLA_d'], ['DAA', 'CN']]\n",
      "[['DAA', 'CN', 'ITR', 'CS', 'RL'], ['DAA', 'ITR', 'CS', 'RL', 'MLA_d'], ['DAA', 'CS', 'MLA_d'], ['DAA', 'CN', 'ITR', 'CS', 'RL', 'MLA_d'], ['DAA', 'CN', 'ITR', 'CS', 'RL', 'MLA_d'], ['DAA', 'CN', 'ITR', 'RL', 'MLA_d'], ['DAA', 'CN', 'ITR', 'RL', 'MLA_d'], ['DAA', 'CN', 'ITR', 'CS', 'RL']]\n",
      "[['DAA', 'CN', 'ITR', 'CS', 'RL', 'MLA_d'], ['DAA', 'ITR', 'CS', 'RL', 'MLA_d'], ['CN', 'ITR', 'CS', 'RL', 'MLA_d'], ['DAA', 'CN', 'ITR', 'CS', 'RL', 'MLA_d'], ['DAA', 'CN', 'ITR', 'CS', 'RL', 'MLA_d'], ['DAA', 'CN', 'CS', 'MLA_d'], ['DAA', 'CN', 'ITR', 'CS', 'RL', 'MLA_d'], ['DAA', 'CN', 'ITR', 'CS', 'RL', 'MLA_d']]\n",
      "[['DAA', 'CN', 'ITR', 'CS', 'RL', 'MLA_d'], ['DAA', 'CN', 'ITR', 'CS', 'RL', 'MLA_d'], ['ITR', 'RL', 'MLA_d'], ['DAA', 'ITR', 'CS', 'RL', 'MLA_d'], ['DAA', 'CN', 'ITR', 'CS', 'RL', 'MLA_d'], ['DAA', 'CN', 'ITR', 'CS', 'RL', 'MLA_d'], ['DAA', 'CN', 'ITR', 'CS', 'RL', 'MLA_d'], ['DAA', 'CN', 'ITR', 'CS', 'RL', 'MLA_d']]\n"
     ]
    }
   ],
   "source": [
    "for k in SubjectAvl.keys():\n",
    "    for i in range(rows):\n",
    "        for j in range(cols):\n",
    "            if(SubjectAvl[k][i][j])==1 and (Subjects[k][0] == \"CSE\"):\n",
    "                Schedule_CSE[i][j].append(k)\n",
    "            if(SubjectAvl[k][i][j])==1 and (Subjects[k][1] == \"DSAI\"):\n",
    "                Schedule_DSAI[i][j].append(k)\n",
    "    \n",
    "    \n",
    "for i in range(rows):\n",
    "    print(Schedule_CSE[i])\n",
    "    \n",
    "    \n",
    "print(\"Next Schedule\")\n",
    "for i in range(rows):\n",
    "    print(Schedule_DSAI[i])"
   ]
  },
  {
   "cell_type": "code",
   "execution_count": 335,
   "metadata": {},
   "outputs": [
    {
     "name": "stdout",
     "output_type": "stream",
     "text": [
      "[[1, 1, 1, 0, 1, 1, 1, 1], [1, 1, 0, 1, 1, 1, 1, 1], [1, 0, 1, 1, 1, 1, 1, 0], [1, 1, 1, 1, 1, 1, 1, 1], [1, 1, 0, 1, 0, 1, 1, 1]]\n",
      "[[2, 2, 2, 2, 0, 2, 2, 2], [2, 0, 0, 2, 2, 2, 2, 2], [2, 2, 2, 2, 2, 2, 2, 2], [2, 2, 0, 2, 2, 2, 2, 2], [2, 2, 0, 2, 2, 2, 2, 2]]\n"
     ]
    }
   ],
   "source": [
    "Temp1=[[0 for i in range(cols)] for j in range(rows)]\n",
    "Temp2=[[0 for i in range(cols)] for j in range(rows)]\n",
    "Temp3=[[0 for i in range(cols)] for j in range(rows)]\n",
    "Temp4=[[0 for i in range(cols)] for j in range(rows)]\n",
    "Temp5=[[0 for i in range(cols)] for j in range(rows)]\n",
    "Temp6=[[0 for i in range(cols)] for j in range(rows)]\n",
    "Temp7=[[0 for i in range(cols)] for j in range(rows)]\n",
    "Temp8=[[0 for i in range(cols)] for j in range(rows)]\n",
    "Temp9=[[0 for i in range(cols)] for j in range(rows)]\n",
    "Temp10=[[0 for i in range(cols)] for j in range(rows)]\n",
    "\n",
    "Subject_No = {\n",
    "    \"OS\": Temp1,\n",
    "    \"MLA\": Temp2,\n",
    "    \"DAA\":Temp3,\n",
    "    \"CN\":Temp4,\n",
    "    \"CC\":Temp5,\n",
    "    \"CA\":Temp6,\n",
    "    \"ITR\":Temp7,\n",
    "    \"CS\":Temp8,\n",
    "    \"RL\":Temp9,\n",
    "    \"MLA_d\":Temp10\n",
    "}\n",
    "\n",
    "\n",
    "for k in Subject_No.keys():\n",
    "    for i in range(rows):\n",
    "        for j in range(cols):\n",
    "            for key in Schedule_CSE[i][j]:\n",
    "                if(k == key):\n",
    "                    Subject_No[k][i][j] += 1\n",
    "            for key1 in Schedule_DSAI[i][j]:\n",
    "                if(k == key1):\n",
    "                    Subject_No[k][i][j] += 1\n",
    "                    \n",
    "print(Subject_No['OS'])\n",
    "print(Subject_No['DAA'])"
   ]
  },
  {
   "cell_type": "code",
   "execution_count": 336,
   "metadata": {},
   "outputs": [
    {
     "name": "stdout",
     "output_type": "stream",
     "text": [
      "[3, 0, 2, 4, 1]\n"
     ]
    }
   ],
   "source": [
    "Holidays = {0:2,1:5,2:3,3:1,4:5}\n",
    "Priority = []\n",
    "for w in sorted(Holidays, key=Holidays.get, reverse=True):\n",
    "    Priority.append(w)\n",
    "Priority.reverse()\n",
    "print(Priority)"
   ]
  },
  {
   "cell_type": "code",
   "execution_count": 337,
   "metadata": {},
   "outputs": [
    {
     "name": "stdout",
     "output_type": "stream",
     "text": [
      "['DAA', 'CN']\n"
     ]
    }
   ],
   "source": [
    "CSE_TimeTable = [[\"-\" for i in range(cols)] for j in range(rows)]\n",
    "DSAI_TimeTable = [[\"-\" for i in range(cols)] for j in range(rows)]\n",
    "\n",
    "list_temp = []\n",
    "for k in SubjectAvl.keys():\n",
    "    if(Subjects[k][0]!=0 and Subjects[k][1]!=0):\n",
    "        list_temp.append(k)\n",
    "\n",
    "print(list_temp)\n"
   ]
  },
  {
   "cell_type": "code",
   "execution_count": 339,
   "metadata": {},
   "outputs": [
    {
     "name": "stdout",
     "output_type": "stream",
     "text": [
      "[['DAA', 'CN', '-', '-', '-', '-', '-', '-'], ['-', '-', '-', '-', '-', '-', '-', '-'], ['DAA', '-', '-', 'CN', '-', '-', '-', '-'], ['DAA', '-', 'CN', '-', '-', '-', '-', '-'], ['DAA', 'CN', '-', '-', '-', '-', '-', '-']]\n"
     ]
    }
   ],
   "source": [
    "def set_all_zero(i,j):\n",
    "    for k in SubjectAvl.keys():\n",
    "        Subject_No[k][i][j]=0\n",
    "\n",
    "def set_zero(i,j):\n",
    "    for k in list_temp:\n",
    "        Subject_No[k][i][j] = 0\n",
    "\n",
    "def check_pos(cse,dsai,sub,i):  \n",
    "    for j in range(cols):\n",
    "        if((cse == 1) and (dsai == 1) and (Subject_No[sub][i][j] == 2)) :\n",
    "            CSE_TimeTable[i][j] = sub\n",
    "            DSAI_TimeTable[i][j] = sub\n",
    "            set_all_zero(i,j)\n",
    "            #print(sub)\n",
    "            #print(str(i) +\"pos\"+str (j))\n",
    "            break\n",
    "                    \n",
    "        elif(cse == 1 and dsai == 0 and Subject_No[sub][i][j] == 1):\n",
    "            CSE_TimeTable[i][j] = sub\n",
    "            set_zero(i,j)\n",
    "            break\n",
    "                    \n",
    "        elif(cse == 0 and dsai == 1 and Subject_No[sub][i][j] == 1):\n",
    "            DSAI_TimeTable[i][j] = sub\n",
    "            set_zero(i,j)\n",
    "            break\n",
    "\n",
    "#print(len(list_temp))\n",
    "while(len(list_temp)!=0):\n",
    "    for l in list_temp:\n",
    "        #print(Subjects[l][2])\n",
    "        for p in Priority:\n",
    "            if(Subjects[l][2]!=0):\n",
    "                check_pos(1,1,l,p)\n",
    "                Subjects[l][2] -= 1\n",
    "            else:\n",
    "                #print(l)\n",
    "                list_temp.remove(l)\n",
    "                break\n",
    "                \n",
    "print(CSE_TimeTable)"
   ]
  },
  {
   "cell_type": "code",
   "execution_count": 340,
   "metadata": {},
   "outputs": [
    {
     "name": "stdout",
     "output_type": "stream",
     "text": [
      "['OS', 'MLA', 'CC', 'CA']\n"
     ]
    }
   ],
   "source": [
    "list_temp = []\n",
    "for k in SubjectAvl.keys():\n",
    "    if(Subjects[k][0]!=0 and Subjects[k][1] == 0):\n",
    "        list_temp.append(k)\n",
    "\n",
    "print(list_temp)"
   ]
  },
  {
   "cell_type": "code",
   "execution_count": 341,
   "metadata": {},
   "outputs": [
    {
     "name": "stdout",
     "output_type": "stream",
     "text": [
      "[['DAA', 'CN', 'OS', 'CA', 'MLA', 'CC', '-', '-'], ['OS', 'CA', 'CC', '-', '-', '-', '-', '-'], ['DAA', 'MLA', 'OS', 'CN', 'CA', 'CC', '-', '-'], ['DAA', 'OS', 'CN', 'MLA', 'CA', 'OS', 'CC', 'CA'], ['DAA', 'CN', 'MLA', 'OS', 'CA', 'CC', '-', '-']]\n"
     ]
    }
   ],
   "source": [
    "while(len(list_temp)!=0):\n",
    "    for l in list_temp:\n",
    "        #print(Subjects[l][2])\n",
    "        for p in Priority:\n",
    "            if(Subjects[l][2]!=0):\n",
    "                check_pos(1,0,l,p)\n",
    "                Subjects[l][2] -= 1\n",
    "            else:\n",
    "                #print(l)\n",
    "                list_temp.remove(l)\n",
    "                break\n",
    "                \n",
    "print(CSE_TimeTable)"
   ]
  },
  {
   "cell_type": "code",
   "execution_count": 342,
   "metadata": {},
   "outputs": [
    {
     "name": "stdout",
     "output_type": "stream",
     "text": [
      "    OS  MLA   DAA    CN   CC   CA   ITR    CS    RL MLA_d\n",
      "0  CSE  CSE   CSE   CSE  CSE  CSE     0     0     0     0\n",
      "1    0    0  DSAI  DSAI    0    0  DSAI  DSAI  DSAI  DSAI\n",
      "2    0    0     0     0    0    0     6     6     4     4\n"
     ]
    }
   ],
   "source": [
    "print(Subjects.head())"
   ]
  },
  {
   "cell_type": "code",
   "execution_count": 343,
   "metadata": {},
   "outputs": [
    {
     "name": "stdout",
     "output_type": "stream",
     "text": [
      "['ITR', 'CS', 'RL', 'MLA_d']\n",
      "[['DAA', 'CN', 'CS', 'ITR', 'RL', 'MLA_d', '-', '-'], ['ITR', 'CS', '-', '-', '-', '-', '-', '-'], ['DAA', 'ITR', 'CS', 'CN', 'RL', 'MLA_d', '-', '-'], ['DAA', 'ITR', 'CN', 'CS', 'RL', 'MLA_d', 'ITR', 'CS'], ['DAA', 'CN', 'ITR', 'CS', 'RL', 'MLA_d', '-', '-']]\n"
     ]
    }
   ],
   "source": [
    "list_temp = []\n",
    "for k in SubjectAvl.keys():\n",
    "    if(Subjects[k][0]==0 and Subjects[k][1] != 0):\n",
    "        list_temp.append(k)\n",
    "\n",
    "print(list_temp)\n",
    "while(len(list_temp)!=0):\n",
    "    for l in list_temp:\n",
    "        #print(Subjects[l][2])\n",
    "        for p in Priority:\n",
    "            if(Subjects[l][2]!=0):\n",
    "                check_pos(0,1,l,p)\n",
    "                Subjects[l][2] -= 1\n",
    "            else:\n",
    "                #print(l)\n",
    "                list_temp.remove(l)\n",
    "                break\n",
    "                \n",
    "print(DSAI_TimeTable)"
   ]
  },
  {
   "cell_type": "code",
   "execution_count": 344,
   "metadata": {},
   "outputs": [
    {
     "name": "stdout",
     "output_type": "stream",
     "text": [
      "DAA\tCN \tOS \tCA \tMLA\tCC\t- \t- \n",
      "OS \tCA \tCC \t-  \t-  \t- \t- \t- \n",
      "DAA\tMLA\tOS \tCN \tCA \tCC\t- \t- \n",
      "DAA\tOS \tCN \tMLA\tCA \tOS\tCC\tCA\n",
      "DAA\tCN \tMLA\tOS \tCA \tCC\t- \t- \n"
     ]
    }
   ],
   "source": [
    "s = [[str(e) for e in row] for row in CSE_TimeTable]\n",
    "lens = [max(map(len, col)) for col in zip(*s)]\n",
    "fmt = '\\t'.join('{{:{}}}'.format(x) for x in lens)\n",
    "table = [fmt.format(*row) for row in s]\n",
    "print ('\\n'.join(table))"
   ]
  },
  {
   "cell_type": "code",
   "execution_count": 345,
   "metadata": {},
   "outputs": [
    {
     "name": "stdout",
     "output_type": "stream",
     "text": [
      "DAA\tCN \tCS \tITR\tRL\tMLA_d\t-  \t- \n",
      "ITR\tCS \t-  \t-  \t- \t-    \t-  \t- \n",
      "DAA\tITR\tCS \tCN \tRL\tMLA_d\t-  \t- \n",
      "DAA\tITR\tCN \tCS \tRL\tMLA_d\tITR\tCS\n",
      "DAA\tCN \tITR\tCS \tRL\tMLA_d\t-  \t- \n"
     ]
    }
   ],
   "source": [
    "s = [[str(e) for e in row] for row in DSAI_TimeTable]\n",
    "lens = [max(map(len, col)) for col in zip(*s)]\n",
    "fmt = '\\t'.join('{{:{}}}'.format(x) for x in lens)\n",
    "table = [fmt.format(*row) for row in s]\n",
    "print ('\\n'.join(table))"
   ]
  }
 ],
 "metadata": {
  "kernelspec": {
   "display_name": "Python 3",
   "language": "python",
   "name": "python3"
  },
  "language_info": {
   "codemirror_mode": {
    "name": "ipython",
    "version": 3
   },
   "file_extension": ".py",
   "mimetype": "text/x-python",
   "name": "python",
   "nbconvert_exporter": "python",
   "pygments_lexer": "ipython3",
   "version": "3.8.5"
  }
 },
 "nbformat": 4,
 "nbformat_minor": 4
}
